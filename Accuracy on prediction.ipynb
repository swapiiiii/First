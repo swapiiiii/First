{
 "cells": [
  {
   "cell_type": "code",
   "execution_count": 1,
   "metadata": {},
   "outputs": [],
   "source": [
    "import math\n",
    "import pandas_datareader as web\n",
    "\n",
    "import numpy as np\n",
    "import pandas as pd\n",
    "from sklearn.preprocessing import MinMaxScaler\n",
    "from tensorflow.keras.models import Sequential\n",
    "from tensorflow.keras.layers import Dense, LSTM\n",
    "import matplotlib.pyplot as plt\n",
    "plt.style.use('fivethirtyeight')\n"
   ]
  },
  {
   "cell_type": "code",
   "execution_count": 8,
   "metadata": {},
   "outputs": [],
   "source": [
    "from matplotlib import pyplot"
   ]
  },
  {
   "cell_type": "code",
   "execution_count": 22,
   "metadata": {},
   "outputs": [
    {
     "name": "stdout",
     "output_type": "stream",
     "text": [
      "Train on 1542 samples\n",
      "1542/1542 [==============================] - 60s 39ms/sample - loss: 0.0021\n",
      "[[703.48285]]\n",
      "Train on 1542 samples\n",
      "1542/1542 [==============================] - 72s 47ms/sample - loss: 0.0019\n",
      "[[211.0064]]\n",
      "Train on 1578 samples\n",
      "1578/1578 [==============================] - 66s 42ms/sample - loss: 6.6725e-04\n",
      "[[315.25095]]\n",
      "Train on 1542 samples\n",
      "1542/1542 [==============================] - 66s 43ms/sample - loss: 0.0031\n",
      "[[-1.0490882]]\n",
      "Train on 1578 samples\n",
      "1578/1578 [==============================] - 71s 45ms/sample - loss: 0.0011\n",
      "[[2061.8635]]\n",
      "Train on 1578 samples\n",
      "1578/1578 [==============================] - 68s 43ms/sample - loss: 0.0026\n",
      "[[11.2823515]]\n",
      "Train on 1542 samples\n",
      "1542/1542 [==============================] - 64s 42ms/sample - loss: 0.0016\n",
      "[[39.594837]]\n",
      "Train on 1209 samples\n",
      "1209/1209 [==============================] - 52s 43ms/sample - loss: 0.0019\n",
      "[[4.8358393]]\n",
      "Train on 1578 samples\n",
      "1578/1578 [==============================] - 68s 43ms/sample - loss: 0.0015\n",
      "[[60.379116]]\n",
      "Train on 1542 samples\n",
      "1542/1542 [==============================] - 67s 43ms/sample - loss: 0.0015\n",
      "[[764.268]]\n",
      "[0.6411966458645567, 0.9433065379522931, 0.9710692804858797, 0.9050562810122794, 0.5976359842825302, 0.9295010948573251, 0.968600555974628, 0.7524943644029721, 0.8845988871090709, 0.44279786726674686]\n"
     ]
    }
   ],
   "source": [
    "A=[\"AXISBANK.NS\",\"ITC.NS\",\"AAPL\",\"RCOM.NS\",\"AMZN\",\"TTM\",\"YESBANK.NS\",\"TCS\",\"HDB\",\"INFY.NS\"]\n",
    "R=[]\n",
    "for name in (A):    \n",
    "    df = web.DataReader(name, data_source='yahoo', start='2012-01-01', end='2020-2-23')\n",
    "    data = df.filter(['Close'])\n",
    "    dataset = data.values\n",
    "    training_data_len = math.ceil( len(dataset) * .8 )\n",
    "    scaler = MinMaxScaler(feature_range=(0,1))\n",
    "    scaled_data = scaler.fit_transform(dataset)\n",
    "    train_data = scaled_data[0:training_data_len , :]\n",
    "    x_train = []\n",
    "    y_train = []\n",
    "\n",
    "    for i in range(60, len(train_data)):\n",
    "        x_train.append(train_data[i-60:i, 0])\n",
    "        y_train.append(train_data[i, 0])\n",
    "    x_train, y_train = np.array(x_train), np.array(y_train)\n",
    "    x_train = np.reshape(x_train, (x_train.shape[0], x_train.shape[1], 1))\n",
    "    model = Sequential()\n",
    "    model.add(LSTM(50, return_sequences=True, input_shape= (x_train.shape[1], 1)))\n",
    "    model.add(LSTM(50, return_sequences= False))\n",
    "    model.add(Dense(25))\n",
    "    model.add(Dense(1))\n",
    "    model.compile(optimizer='adam', loss='mean_squared_error')\n",
    "    model.fit(x_train, y_train, batch_size=1, epochs=1)\n",
    "    test_data = scaled_data[training_data_len - 60: , :]\n",
    "    x_test = []\n",
    "    y_test = dataset[training_data_len:, :]\n",
    "    for i in range(60, len(test_data)):\n",
    "        x_test.append(test_data[i-60:i, 0])\n",
    "    x_test = np.array(x_test)\n",
    "    x_test = np.reshape(x_test, (x_test.shape[0], x_test.shape[1], 1 ))\n",
    "    predictions = model.predict(x_test)\n",
    "    predictions = scaler.inverse_transform(predictions)\n",
    "    predictions = model.predict(x_test)\n",
    "    predictions = scaler.inverse_transform(predictions)\n",
    "    rmse=np.sqrt(np.mean(((predictions- y_test)**2)))\n",
    "    apple_quote = web.DataReader(name, data_source='yahoo', start='2012-01-01', end='2020-2-20')\n",
    "    new_df = apple_quote.filter(['Close'])\n",
    "    last_60_days = new_df[-60:].values\n",
    "    last_60_days_scaled = scaler.transform(last_60_days)\n",
    "    X_test = []\n",
    "    X_test.append(last_60_days_scaled)\n",
    "    X_test = np.array(X_test)\n",
    "    X_test = np.reshape(X_test, (X_test.shape[0], X_test.shape[1], 1))\n",
    "    pred_price = model.predict(X_test)\n",
    "    pred_price = scaler.inverse_transform(pred_price)\n",
    "    print(pred_price)\n",
    "    R.append(r2_score(predictions , y_test))\n",
    "print(R)"
   ]
  },
  {
   "cell_type": "code",
   "execution_count": 19,
   "metadata": {},
   "outputs": [
    {
     "name": "stdout",
     "output_type": "stream",
     "text": [
      "R2-score: 1.00\n"
     ]
    }
   ],
   "source": [
    "print(\"R2-score: %.2f\" % r2_score(y_test , y_test) )"
   ]
  },
  {
   "cell_type": "code",
   "execution_count": 23,
   "metadata": {},
   "outputs": [
    {
     "name": "stdout",
     "output_type": "stream",
     "text": [
      "AXISBANK.NS 0.6411966458645567\n",
      "ITC.NS 0.9433065379522931\n",
      "AAPL 0.9710692804858797\n",
      "RCOM.NS 0.9050562810122794\n",
      "AMZN 0.5976359842825302\n",
      "TTM 0.9295010948573251\n",
      "YESBANK.NS 0.968600555974628\n",
      "TCS 0.7524943644029721\n",
      "HDB 0.8845988871090709\n",
      "INFY.NS 0.44279786726674686\n"
     ]
    }
   ],
   "source": [
    "for i in range(10):\n",
    "    print(A[i],end =\" \")\n",
    "    print(R[i])"
   ]
  },
  {
   "cell_type": "code",
   "execution_count": null,
   "metadata": {},
   "outputs": [],
   "source": []
  },
  {
   "cell_type": "code",
   "execution_count": null,
   "metadata": {},
   "outputs": [],
   "source": []
  },
  {
   "cell_type": "code",
   "execution_count": null,
   "metadata": {},
   "outputs": [],
   "source": []
  }
 ],
 "metadata": {
  "kernelspec": {
   "display_name": "Python 3",
   "language": "python",
   "name": "python3"
  },
  "language_info": {
   "codemirror_mode": {
    "name": "ipython",
    "version": 3
   },
   "file_extension": ".py",
   "mimetype": "text/x-python",
   "name": "python",
   "nbconvert_exporter": "python",
   "pygments_lexer": "ipython3",
   "version": "3.7.7"
  }
 },
 "nbformat": 4,
 "nbformat_minor": 4
}
